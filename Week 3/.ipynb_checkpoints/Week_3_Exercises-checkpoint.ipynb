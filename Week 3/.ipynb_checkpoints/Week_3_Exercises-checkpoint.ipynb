{
 "cells": [
  {
   "cell_type": "markdown",
   "metadata": {},
   "source": [
    "# National Survey of Family Growth (NSFG)\n",
    "Download Week 3 file from this link https://github.com/sahinsrhn/CS240"
   ]
  },
  {
   "cell_type": "code",
   "execution_count": 1,
   "metadata": {},
   "outputs": [],
   "source": [
    "# First Import these files\n",
    "\n",
    "from __future__ import print_function, division\n",
    "\n",
    "import nsfg\n"
   ]
  },
  {
   "cell_type": "markdown",
   "metadata": {},
   "source": [
    "### Read NSFG data into a Pandas DataFrame."
   ]
  },
  {
   "cell_type": "code",
   "execution_count": 2,
   "metadata": {},
   "outputs": [],
   "source": [
    "# nsfg.ReadFemPreg() this module's function reads the NSFG pregnancy dataand return a dataframe\n",
    "#preg = nsfg.ReadFemPreg()\n",
    "\n",
    "# .head() is pandas method that allow take a look of data frame\n",
    "# pandas documentation page http://pandas.pydata.org/pandas-docs/stable/\n",
    "# see documentation of .head() from google\n",
    "#preg.head()\n",
    "#preg.head(10)\n",
    "\n",
    "#preg.tail()\n",
    "#preg.tail(10)"
   ]
  },
  {
   "cell_type": "markdown",
   "metadata": {},
   "source": [
    "### Print the column names."
   ]
  },
  {
   "cell_type": "code",
   "execution_count": 3,
   "metadata": {},
   "outputs": [],
   "source": [
    "# see the columns of dataframe\n",
    "\n",
    "#preg.columns"
   ]
  },
  {
   "cell_type": "markdown",
   "metadata": {},
   "source": [
    "### Columns"
   ]
  },
  {
   "cell_type": "code",
   "execution_count": 4,
   "metadata": {},
   "outputs": [],
   "source": [
    "# select the single column\n",
    "#preg.columns[0]\n",
    "#preg.columns[0:44]\n",
    "# Select a column and check what type it is.\n",
    "\n",
    "#finalwgt = preg['finalwgt']\n",
    "#type(finalwgt)\n",
    "\n",
    "# Printing a column\n",
    "#finalwgt\n",
    "\n",
    "# Select a single element from a column and slicing.\n",
    "#finalwgt[43]\n",
    "#finalwgt[43:56]\n",
    "#finalwgt[43:-4000]\n",
    "\n",
    "# Select a column using dot notation.\n",
    "#basewgt = preg.basewgt\n"
   ]
  },
  {
   "cell_type": "markdown",
   "metadata": {},
   "source": [
    "### Rows"
   ]
  },
  {
   "cell_type": "code",
   "execution_count": 5,
   "metadata": {},
   "outputs": [],
   "source": [
    "#Selecting Rows\n",
    "#preg.row\n",
    "\n",
    "#preg[preg.caseid==2298]"
   ]
  },
  {
   "cell_type": "markdown",
   "metadata": {},
   "source": [
    "##### Create a new column named totalwgt_kg that contains birth weight in kilograms."
   ]
  },
  {
   "cell_type": "code",
   "execution_count": 6,
   "metadata": {},
   "outputs": [],
   "source": [
    "#preg['totalwgt_kg'] = preg.totalwgt_lb / 2.2\n",
    "#preg.totalwgt_kg\n",
    "\n",
    "#Selecting Rows\n",
    "#preg[preg[\"totalwgt_kg\"] < 1 ]\n",
    "#preg[preg.totalwgt_kg >= 5 ]"
   ]
  },
  {
   "cell_type": "markdown",
   "metadata": {},
   "source": [
    "### Simple A Few Built-In Functions"
   ]
  },
  {
   "cell_type": "code",
   "execution_count": 7,
   "metadata": {},
   "outputs": [],
   "source": [
    "#Count the number of times each value occurs.\n",
    "#Search Documentations of value_counts() and sort_index()\n",
    "\n",
    "#preg.outcome.value_counts().sort_index()\n",
    "#preg.birthwgt_lb.value_counts().sort_index()\n",
    "\n",
    "# .isnull()\n",
    "#preg.birthord.isnull()\n",
    "#preg.birthord.isnull().value_counts()\n",
    "#preg.birthord.isnull().sum()\n",
    "\n",
    "#statistics\n",
    "#preg.describe()\n",
    "#preg.basewgt.min()\n",
    "#preg.basewgt.mean()\n",
    "#preg.mean()"
   ]
  },
  {
   "cell_type": "code",
   "execution_count": null,
   "metadata": {},
   "outputs": [],
   "source": []
  }
 ],
 "metadata": {
  "kernelspec": {
   "display_name": "Python 2",
   "language": "python",
   "name": "python2"
  },
  "language_info": {
   "codemirror_mode": {
    "name": "ipython",
    "version": 2
   },
   "file_extension": ".py",
   "mimetype": "text/x-python",
   "name": "python",
   "nbconvert_exporter": "python",
   "pygments_lexer": "ipython2",
   "version": "2.7.13"
  }
 },
 "nbformat": 4,
 "nbformat_minor": 2
}
